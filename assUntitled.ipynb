{
 "cells": [
  {
   "cell_type": "markdown",
   "id": "4baeb5e8",
   "metadata": {},
   "source": [
    "## Guess The Number Game"
   ]
  },
  {
   "cell_type": "code",
   "execution_count": null,
   "id": "85ed0419",
   "metadata": {},
   "outputs": [
    {
     "name": "stdout",
     "output_type": "stream",
     "text": [
      "You have 5 trials\n"
     ]
    }
   ],
   "source": [
    "import random\n",
    "print('You have 5 trials')\n",
    "num = random.randint(1, 10)\n",
    "trials = 1\n",
    "\n",
    "while trials <= 5:\n",
    "  guess = input('Guess a number between 1 and 10: ')\n",
    "  guess = int(guess)\n",
    "   \n",
    "  if guess == num:\n",
    "    print('Congratulations')\n",
    "    \n",
    "    break\n",
    "    \n",
    "  elif (guess == num-2) or (guess == num + 2):\n",
    "    print('Your guess is close')\n",
    "    \n",
    "  elif (guess == num -5) or (guess == num + 5) :\n",
    "    print('Your guess is far away')\n",
    "    \n",
    "  trials+=1\n"
   ]
  },
  {
   "cell_type": "markdown",
   "id": "64c44e8c",
   "metadata": {},
   "source": [
    "## Generate Random Password"
   ]
  },
  {
   "cell_type": "code",
   "execution_count": null,
   "id": "ce704122",
   "metadata": {},
   "outputs": [],
   "source": [
    " "
   ]
  },
  {
   "cell_type": "code",
   "execution_count": null,
   "id": "7fc0380e",
   "metadata": {},
   "outputs": [],
   "source": []
  }
 ],
 "metadata": {
  "kernelspec": {
   "display_name": "Python 3 (ipykernel)",
   "language": "python",
   "name": "python3"
  },
  "language_info": {
   "codemirror_mode": {
    "name": "ipython",
    "version": 3
   },
   "file_extension": ".py",
   "mimetype": "text/x-python",
   "name": "python",
   "nbconvert_exporter": "python",
   "pygments_lexer": "ipython3",
   "version": "3.9.12"
  }
 },
 "nbformat": 4,
 "nbformat_minor": 5
}
