{
 "cells": [
  {
   "cell_type": "code",
   "execution_count": 1,
   "id": "c4a40e89",
   "metadata": {},
   "outputs": [
    {
     "name": "stdout",
     "output_type": "stream",
     "text": [
      "Enter a password length :8\n"
     ]
    }
   ],
   "source": [
    "import random\n",
    "possible_char = \" 'QWERTYUIOPASDFGHJKLZXCVBNM,123456789-=*&&^^%%$##.,asdfgghjkl;qwertyuiopasdfghjklzxcvbnm'\"\n",
    "\n",
    "password = ''\n",
    "password_length = int(input('Enter a password length :'))\n",
    "i = 1\n",
    "while (i <= password_length):\n",
    "    password += random.choice(possible_char)\n",
    "    i += 1\n",
    "with open('passwords.txt', 'w') as my_file:\n",
    "    my_file.write(password)"
   ]
  }
 ],
 "metadata": {
  "kernelspec": {
   "display_name": "Python 3 (ipykernel)",
   "language": "python",
   "name": "python3"
  },
  "language_info": {
   "codemirror_mode": {
    "name": "ipython",
    "version": 3
   },
   "file_extension": ".py",
   "mimetype": "text/x-python",
   "name": "python",
   "nbconvert_exporter": "python",
   "pygments_lexer": "ipython3",
   "version": "3.9.12"
  }
 },
 "nbformat": 4,
 "nbformat_minor": 5
}
